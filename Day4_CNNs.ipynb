{
 "cells": [
  {
   "cell_type": "code",
   "execution_count": 1,
   "metadata": {},
   "outputs": [
    {
     "name": "stderr",
     "output_type": "stream",
     "text": [
      "/home/mathlizard/anaconda3/lib/python3.6/site-packages/h5py/__init__.py:36: FutureWarning: Conversion of the second argument of issubdtype from `float` to `np.floating` is deprecated. In future, it will be treated as `np.float64 == np.dtype(float).type`.\n",
      "  from ._conv import register_converters as _register_converters\n",
      "Using TensorFlow backend.\n"
     ]
    },
    {
     "name": "stdout",
     "output_type": "stream",
     "text": [
      "_________________________________________________________________\n",
      "Layer (type)                 Output Shape              Param #   \n",
      "=================================================================\n",
      "conv2d_1 (Conv2D)            (None, 26, 26, 32)        320       \n",
      "_________________________________________________________________\n",
      "max_pooling2d_1 (MaxPooling2 (None, 13, 13, 32)        0         \n",
      "_________________________________________________________________\n",
      "conv2d_2 (Conv2D)            (None, 11, 11, 64)        18496     \n",
      "_________________________________________________________________\n",
      "max_pooling2d_2 (MaxPooling2 (None, 5, 5, 64)          0         \n",
      "_________________________________________________________________\n",
      "conv2d_3 (Conv2D)            (None, 3, 3, 64)          36928     \n",
      "_________________________________________________________________\n",
      "flatten_1 (Flatten)          (None, 576)               0         \n",
      "_________________________________________________________________\n",
      "dense_1 (Dense)              (None, 64)                36928     \n",
      "_________________________________________________________________\n",
      "dense_2 (Dense)              (None, 10)                650       \n",
      "=================================================================\n",
      "Total params: 93,322\n",
      "Trainable params: 93,322\n",
      "Non-trainable params: 0\n",
      "_________________________________________________________________\n"
     ]
    }
   ],
   "source": [
    "from keras import models, layers\n",
    "\n",
    "model = models.Sequential()\n",
    "\n",
    "model.add(layers.Conv2D(\n",
    "    32,\n",
    "    (3,3),\n",
    "    activation=\"relu\",\n",
    "    input_shape=(28, 28, 1)\n",
    "))\n",
    "model.add(layers.MaxPooling2D((2,2)))\n",
    "model.add(layers.Conv2D(64, (3,3), activation=\"relu\"))\n",
    "model.add(layers.MaxPooling2D((2,2)))\n",
    "model.add(layers.Conv2D(64, (3,3), activation=\"relu\"))\n",
    "model.add(layers.Flatten())\n",
    "model.add(layers.Dense(64, activation=\"relu\"))\n",
    "model.add(layers.Dense(10, activation=\"softmax\"))\n",
    "\n",
    "\n",
    "\n",
    "model.summary()"
   ]
  },
  {
   "cell_type": "code",
   "execution_count": 2,
   "metadata": {},
   "outputs": [],
   "source": [
    "from keras.datasets import mnist\n",
    "\n",
    "model.compile(\n",
    "    optimizer=\"rmsprop\",\n",
    "    loss=\"categorical_crossentropy\",\n",
    "    metrics=[\"accuracy\"]\n",
    ")\n",
    "\n"
   ]
  },
  {
   "cell_type": "code",
   "execution_count": 3,
   "metadata": {},
   "outputs": [],
   "source": [
    "(train_images, train_labels), (test_images, test_labels) = mnist.load_data()\n",
    "\n",
    "train_images = train_images.reshape((60000, 28,28,1))\n",
    "train_images = train_images.astype(\"float32\") / 255.0 \n",
    "\n",
    "test_images = test_images.reshape((10000, 28,28,1))\n",
    "test_images = test_images.astype(\"float32\") / 255.0\n",
    "\n",
    "from keras.utils import to_categorical\n",
    "\n",
    "\n",
    "train_labels = to_categorical(train_labels)   #one-hot encoding\n",
    "test_labels = to_categorical(test_labels)\n",
    "\n",
    "# val_labels=train_labels[:10000]\n",
    "# val_images=train_images[:10000]\n",
    "\n",
    "# partial_train_labels = train_labels[10000:]\n",
    "# partial_train_images= train_images[10000:]"
   ]
  },
  {
   "cell_type": "code",
   "execution_count": 6,
   "metadata": {},
   "outputs": [
    {
     "name": "stdout",
     "output_type": "stream",
     "text": [
      "Epoch 1/10\n",
      "60000/60000 [==============================] - 22s 370us/step - loss: 0.1804 - acc: 0.9439\n",
      "Epoch 2/10\n",
      "60000/60000 [==============================] - 27s 442us/step - loss: 0.0564 - acc: 0.9834\n",
      "Epoch 3/10\n",
      "60000/60000 [==============================] - 27s 446us/step - loss: 0.0381 - acc: 0.9885\n",
      "Epoch 4/10\n",
      "60000/60000 [==============================] - 27s 447us/step - loss: 0.0308 - acc: 0.9909\n",
      "Epoch 5/10\n",
      "60000/60000 [==============================] - 27s 448us/step - loss: 0.0244 - acc: 0.9927\n",
      "Epoch 6/10\n",
      "60000/60000 [==============================] - 27s 451us/step - loss: 0.0216 - acc: 0.9938\n",
      "Epoch 7/10\n",
      "60000/60000 [==============================] - 27s 453us/step - loss: 0.0186 - acc: 0.9949\n",
      "Epoch 8/10\n",
      "60000/60000 [==============================] - 27s 453us/step - loss: 0.0157 - acc: 0.9953\n",
      "Epoch 9/10\n",
      "60000/60000 [==============================] - 28s 460us/step - loss: 0.0154 - acc: 0.9962\n",
      "Epoch 10/10\n",
      "60000/60000 [==============================] - 28s 460us/step - loss: 0.0136 - acc: 0.9967\n"
     ]
    }
   ],
   "source": [
    "history = model.fit(  #it contains a history dictionry, history.history\n",
    "train_images, train_labels, \n",
    "epochs=10,     \n",
    "batch_size=64,)\n",
    "# validation_data=(val_images, val_labels)"
   ]
  },
  {
   "cell_type": "code",
   "execution_count": 7,
   "metadata": {},
   "outputs": [
    {
     "name": "stdout",
     "output_type": "stream",
     "text": [
      "60000/60000 [==============================] - 11s 183us/step\n"
     ]
    }
   ],
   "source": [
    "test_loss, test_acc = model.evaluate(train_images, train_labels)  #why do we have test data?  to avoid overfitting\n"
   ]
  },
  {
   "cell_type": "code",
   "execution_count": 8,
   "metadata": {},
   "outputs": [
    {
     "name": "stdout",
     "output_type": "stream",
     "text": [
      "0.01103985443784204 0.9971\n"
     ]
    }
   ],
   "source": [
    "print(test_loss, test_acc)"
   ]
  },
  {
   "cell_type": "code",
   "execution_count": null,
   "metadata": {},
   "outputs": [],
   "source": [
    "# print(history.history)\n",
    "import matplotlib.pyplot as plt\n",
    "plt.subplot(1,1,1)\n",
    "# plt.plot(history.history['val_acc'], label='validation_acc')\n",
    "plt.plot(history.history['acc'], label='train_acc')\n",
    "plt.legend()\n",
    "plt.show()\n",
    "plt.close()"
   ]
  },
  {
   "cell_type": "code",
   "execution_count": null,
   "metadata": {},
   "outputs": [],
   "source": [
    "import matplotlib.pyplot as plt\n",
    "plt.subplot(1,1,1)\n",
    "# plt.plot(history.history['val_loss'], label='validation_acc')\n",
    "plt.plot(history.history['loss'], label='train_acc')\n",
    "plt.legend()\n",
    "plt.show()\n",
    "plt.close()"
   ]
  },
  {
   "cell_type": "code",
   "execution_count": null,
   "metadata": {},
   "outputs": [],
   "source": []
  }
 ],
 "metadata": {
  "kernelspec": {
   "display_name": "Python 3",
   "language": "python",
   "name": "python3"
  },
  "language_info": {
   "codemirror_mode": {
    "name": "ipython",
    "version": 3
   },
   "file_extension": ".py",
   "mimetype": "text/x-python",
   "name": "python",
   "nbconvert_exporter": "python",
   "pygments_lexer": "ipython3",
   "version": "3.6.5"
  }
 },
 "nbformat": 4,
 "nbformat_minor": 2
}
