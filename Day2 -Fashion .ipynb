{
 "cells": [
  {
   "cell_type": "code",
   "execution_count": 1,
   "metadata": {},
   "outputs": [],
   "source": [
    "import numpy as np"
   ]
  },
  {
   "cell_type": "code",
   "execution_count": 2,
   "metadata": {},
   "outputs": [],
   "source": [
    "x = np.array([[1,2],[3,4],[5,6]])"
   ]
  },
  {
   "cell_type": "code",
   "execution_count": 3,
   "metadata": {},
   "outputs": [
    {
     "data": {
      "text/plain": [
       "array([[1, 2],\n",
       "       [3, 4],\n",
       "       [5, 6]])"
      ]
     },
     "execution_count": 3,
     "metadata": {},
     "output_type": "execute_result"
    }
   ],
   "source": [
    "x"
   ]
  },
  {
   "cell_type": "code",
   "execution_count": 4,
   "metadata": {},
   "outputs": [],
   "source": [
    "y = x[[0,1,2],[0,1,0]]"
   ]
  },
  {
   "cell_type": "code",
   "execution_count": 5,
   "metadata": {},
   "outputs": [
    {
     "data": {
      "text/plain": [
       "array([1, 4, 5])"
      ]
     },
     "execution_count": 5,
     "metadata": {},
     "output_type": "execute_result"
    }
   ],
   "source": [
    "y"
   ]
  },
  {
   "cell_type": "markdown",
   "metadata": {},
   "source": [
    "^ I don't understand this"
   ]
  },
  {
   "cell_type": "code",
   "execution_count": 6,
   "metadata": {},
   "outputs": [
    {
     "name": "stderr",
     "output_type": "stream",
     "text": [
      "/home/mathlizard/anaconda3/lib/python3.6/site-packages/h5py/__init__.py:36: FutureWarning: Conversion of the second argument of issubdtype from `float` to `np.floating` is deprecated. In future, it will be treated as `np.float64 == np.dtype(float).type`.\n",
      "  from ._conv import register_converters as _register_converters\n",
      "Using TensorFlow backend.\n"
     ]
    }
   ],
   "source": [
    "import keras"
   ]
  },
  {
   "cell_type": "code",
   "execution_count": 7,
   "metadata": {},
   "outputs": [
    {
     "data": {
      "text/plain": [
       "'2.2.2'"
      ]
     },
     "execution_count": 7,
     "metadata": {},
     "output_type": "execute_result"
    }
   ],
   "source": [
    "keras.__version__"
   ]
  },
  {
   "cell_type": "code",
   "execution_count": 8,
   "metadata": {},
   "outputs": [],
   "source": [
    "from keras.datasets import fashion_mnist"
   ]
  },
  {
   "cell_type": "code",
   "execution_count": 9,
   "metadata": {},
   "outputs": [],
   "source": [
    "from keras import models, layers\n"
   ]
  },
  {
   "cell_type": "code",
   "execution_count": 10,
   "metadata": {},
   "outputs": [
    {
     "name": "stdout",
     "output_type": "stream",
     "text": [
      "Train: (60000, 28, 28)\n",
      "Test: (10000, 28, 28)\n"
     ]
    },
    {
     "data": {
      "text/plain": [
       "<Figure size 640x480 with 1 Axes>"
      ]
     },
     "metadata": {},
     "output_type": "display_data"
    },
    {
     "name": "stdout",
     "output_type": "stream",
     "text": [
      "[0 1 2 3 4 5 6 7 8 9]\n"
     ]
    }
   ],
   "source": [
    "import matplotlib.pyplot as plt\n",
    "import numpy as np\n",
    "\n",
    "(train_images, train_labels), (test_images, test_labels) = fashion_mnist.load_data()\n",
    "print(\"Train:\", train_images.shape)\n",
    "print(\"Test:\", test_images.shape)\n",
    "plt.imshow(train_images[0])\n",
    "plt.title(str(train_labels[0]))\n",
    "plt.show()\n",
    "\n",
    "print(np.unique(train_labels))"
   ]
  },
  {
   "cell_type": "code",
   "execution_count": 11,
   "metadata": {},
   "outputs": [
    {
     "name": "stdout",
     "output_type": "stream",
     "text": [
      "_________________________________________________________________\n",
      "Layer (type)                 Output Shape              Param #   \n",
      "=================================================================\n",
      "dense_1 (Dense)              (None, 512)               401920    \n",
      "_________________________________________________________________\n",
      "dense_2 (Dense)              (None, 200)               102600    \n",
      "_________________________________________________________________\n",
      "dense_3 (Dense)              (None, 100)               20100     \n",
      "_________________________________________________________________\n",
      "dense_4 (Dense)              (None, 10)                1010      \n",
      "=================================================================\n",
      "Total params: 525,630\n",
      "Trainable params: 525,630\n",
      "Non-trainable params: 0\n",
      "_________________________________________________________________\n"
     ]
    }
   ],
   "source": [
    "model = models.Sequential()  # take a couple of layers and stack them\n",
    "model.add(layers.Dense(   #the 784 inputs then simplify to 512 outputs\n",
    "512,\n",
    "activation=\"relu\",   #ensures proper nodes are activated\n",
    "input_shape=(28*28,)))  #defining the input shape, ONLY THE FIRST LAYER HAS A DETERMINED INPUT SHAPE\n",
    "\n",
    "model.add(layers.Dense(   #the 784 inputs then simplify to 512 outputs\n",
    "200,\n",
    "activation=\"relu\",   #ensures proper nodes are activated\n",
    "input_shape=(28*28,)))  #defining the input shape, ONLY THE FIRST LAYER HAS A DETERMINED INPUT SHAPE\n",
    "\n",
    "# model.add(layers.Dense(   #the 784 inputs then simplify to 512 outputs\n",
    "# 100,\n",
    "# activation=\"relu\",   #ensures proper nodes are activated\n",
    "# input_shape=(28*28,))) \n",
    "model.add(layers.Dense(\n",
    "    10,\n",
    "    activation=\"softmax\")) #it has 10 outputs, and its input is from the last layer\n",
    "#softmax is a threshold function, activation threhold, makes sure some outputs propogate and others don't propogate\n",
    "#makes sure the sum of all outputs is 1, and each output is in between 0 and 1 --> becomes a probability distribution\n",
    "model.summary() \n",
    "\n",
    "model.compile(           #you can't train a neural network until it's been compiled, \n",
    "optimizer=\"rmsprop\",     #rmsprop is an algorithm changes the learning rate over time, always a good start\n",
    "loss=\"categorical_crossentropy\",   #tells you how big your error is, how far away from the predicted result from expected\n",
    "metrics=[\"accuracy\"])#cross entropy == distances between probability distributions, categorical means more than two classes \n",
    "# accuracy tells how many predictions are right and wrong,\n",
    "# we use accuracy because it's a classifation problem\n",
    "# accuracy metric is easily to interpret"
   ]
  },
  {
   "cell_type": "markdown",
   "metadata": {},
   "source": [
    "401920 = (28 \\* 28) * (512+1)"
   ]
  },
  {
   "cell_type": "markdown",
   "metadata": {},
   "source": [
    "* this is a dense model, i.e. fully connected, which  means fixed input and output size\n",
    "* the dense layers are directed and WEIGHTED\n",
    "* neural networks are a directed graph\n",
    "* the hidden layer, which has 512 inputs, are hyperparameters\n",
    "* why relu? relu is fast, always good start\n",
    "* why softmax? because it's a classification problem\n",
    "* loss (in this case categorical_crossentropy) can be hard to intrepet\n",
    "* in classification, with more htan 2 classes, you are obliged to use last layer as softmax, and the category crossentropy as loss function. \n",
    "\n"
   ]
  },
  {
   "cell_type": "code",
   "execution_count": 12,
   "metadata": {},
   "outputs": [],
   "source": [
    "%matplotlib inline\n",
    "import matplotlib.pyplot as plt \n",
    "\n",
    "# (train_images, train_labels), (test_images, test_labels) = mnist.load_data()\n",
    "# print(\"Train:\", train_images.shape)\n",
    "# print(\"Test:\", test_images.shape)\n",
    "\n",
    "# plt.imshow(train_images[0],cmap=\"gray\")\n",
    "# plt.title(str(train_labels[0]))\n",
    "# plt.show()\n",
    "#the original input has numbers that are between 0 and 255\n",
    "#feed neural networks with numbers that range between 0 and 1, or -1 and 1\n",
    "# big numbers mean the gradient might explode\n",
    "\n",
    "train_images = train_images.reshape((60000, 28*28))\n",
    "train_images = train_images.astype(\"float32\") / 255.0   #normalizing the data\n",
    "\n",
    "test_images = test_images.reshape((10000, 28*28))\n",
    "test_images = test_images.astype(\"float32\") / 255.0\n",
    "\n",
    "from keras.utils import to_categorical\n",
    "\n",
    "# print(\"before:\", train_labels[0])\n",
    "\n",
    "train_labels = to_categorical(train_labels)   #one-hot encoding\n",
    "test_labels = to_categorical(test_labels)\n",
    "# print('after:', train_labels[0])\n",
    "\n",
    "#60,000 = number of samples\n",
    "#28 by 28 gives you the dimensionality"
   ]
  },
  {
   "cell_type": "code",
   "execution_count": 13,
   "metadata": {},
   "outputs": [],
   "source": [
    "# model.evaluate(train_images, train_labels)  #the young neural network without training\n",
    "#model.evaluate: do this once, after the training"
   ]
  },
  {
   "cell_type": "code",
   "execution_count": 14,
   "metadata": {},
   "outputs": [],
   "source": [
    "#model.predict(train_images[0])  #assumes an array of images, this doesn't work. \n",
    "import numpy as np\n",
    "# model.predict(train_images[0:1])#hence it has to be two dimensional\n",
    "# print(np.max(model.predict(train_images[0:1])))\n",
    "# print(np.argmax(model.predict(train_images[0:1])))\n",
    "# print(train_labels[0])\n",
    "#this is an untrained neural network, this is bad"
   ]
  },
  {
   "cell_type": "code",
   "execution_count": 15,
   "metadata": {},
   "outputs": [
    {
     "name": "stdout",
     "output_type": "stream",
     "text": [
      "Epoch 1/15\n",
      "60000/60000 [==============================] - 5s 78us/step - loss: 0.5702 - acc: 0.7887\n",
      "Epoch 2/15\n",
      "60000/60000 [==============================] - 5s 75us/step - loss: 0.3903 - acc: 0.8554\n",
      "Epoch 3/15\n",
      "60000/60000 [==============================] - 5s 91us/step - loss: 0.3462 - acc: 0.8722\n",
      "Epoch 4/15\n",
      "60000/60000 [==============================] - 5s 88us/step - loss: 0.3226 - acc: 0.8809\n",
      "Epoch 5/15\n",
      "60000/60000 [==============================] - 5s 86us/step - loss: 0.3001 - acc: 0.8880\n",
      "Epoch 6/15\n",
      "60000/60000 [==============================] - 5s 87us/step - loss: 0.2890 - acc: 0.8933\n",
      "Epoch 7/15\n",
      "60000/60000 [==============================] - 5s 88us/step - loss: 0.2778 - acc: 0.8980\n",
      "Epoch 8/15\n",
      "60000/60000 [==============================] - 5s 87us/step - loss: 0.2724 - acc: 0.8991\n",
      "Epoch 9/15\n",
      "60000/60000 [==============================] - 5s 87us/step - loss: 0.2638 - acc: 0.9016\n",
      "Epoch 10/15\n",
      "60000/60000 [==============================] - 5s 88us/step - loss: 0.2575 - acc: 0.9044\n",
      "Epoch 11/15\n",
      "60000/60000 [==============================] - 5s 88us/step - loss: 0.2523 - acc: 0.9069\n",
      "Epoch 12/15\n",
      "60000/60000 [==============================] - 5s 88us/step - loss: 0.2473 - acc: 0.9099\n",
      "Epoch 13/15\n",
      "60000/60000 [==============================] - 5s 89us/step - loss: 0.2424 - acc: 0.9112\n",
      "Epoch 14/15\n",
      "60000/60000 [==============================] - 5s 90us/step - loss: 0.2396 - acc: 0.9122\n",
      "Epoch 15/15\n",
      "60000/60000 [==============================] - 5s 88us/step - loss: 0.2361 - acc: 0.9136\n"
     ]
    }
   ],
   "source": [
    "history = model.fit(  #it contains a history dictionry, history.history\n",
    "train_images, train_labels, \n",
    "epochs=15,     \n",
    "batch_size=128)  #BATCH SIZE MUST BE power of 2\n",
    "#number of epochs is determined how big your training data is\n",
    "#re-running these lines of code does not reset the weights, it will use the previous weights of the 5th epoch"
   ]
  },
  {
   "cell_type": "code",
   "execution_count": 16,
   "metadata": {},
   "outputs": [
    {
     "name": "stdout",
     "output_type": "stream",
     "text": [
      "{'loss': [0.5702056402842204, 0.39027269476254783, 0.34623864352703093, 0.32259930030504863, 0.3000750285466512, 0.2889507407983144, 0.27775785230000816, 0.27240686570008593, 0.2638235355059306, 0.2574897010405858, 0.2523033673763275, 0.2472621837457021, 0.24241767036914824, 0.2396016769806544, 0.23609315578142803], 'acc': [0.7886666666348775, 0.8554000000317892, 0.8722166666348775, 0.8808833333015442, 0.8879833333015442, 0.8933, 0.8979833333015442, 0.8990666666348776, 0.9016499999682108, 0.9044, 0.9068666666984558, 0.9099333333333334, 0.9112333333651225, 0.9121833333651225, 0.9136333333015442]}\n"
     ]
    },
    {
     "data": {
      "image/png": "[encoded data removed]",
      "text/plain": [
       "<Figure size 432x288 with 1 Axes>"
      ]
     },
     "metadata": {},
     "output_type": "display_data"
    },
    {
     "data": {
      "image/png": "[encoded data removed]",
      "text/plain": [
       "<Figure size 432x288 with 1 Axes>"
      ]
     },
     "metadata": {},
     "output_type": "display_data"
    }
   ],
   "source": [
    "print(history.history)\n",
    "\n",
    "plt.plot(history.history['loss'])\n",
    "plt.show()\n",
    "plt.close()\n",
    "\n",
    "plt.plot(history.history['acc'], label='acc')\n",
    "plt.legend()\n",
    "plt.show()\n",
    "plt.close()"
   ]
  },
  {
   "cell_type": "code",
   "execution_count": 17,
   "metadata": {},
   "outputs": [
    {
     "name": "stdout",
     "output_type": "stream",
     "text": [
      "10000/10000 [==============================] - 1s 74us/step\n",
      "0.42655806064009666 0.8678\n"
     ]
    }
   ],
   "source": [
    "test_loss, test_acc = model.evaluate(test_images, test_labels)  #why do we have test data?  to avoid overfitting\n",
    "print(test_loss, test_acc)"
   ]
  },
  {
   "cell_type": "markdown",
   "metadata": {},
   "source": [
    "* optimizing vs generalizing \n",
    "* we optimize on the training data, and we generalize on the testing data (something it hasn't seen yet)\n",
    "* we need to apply the testing data to avoid overfitting"
   ]
  },
  {
   "cell_type": "markdown",
   "metadata": {},
   "source": [
    "*  big words: AI, ML, DL\n",
    "*  there's a big difference between AI and ML --> not true!  \n",
    "*  Agent-based AI \n",
    "*  DL was used to win the game of GO\n",
    "* given the input and output, find the rules (the function that fits)\n",
    "* Artificial Neural Networks (ANN)/ DL \n",
    "*  AI is the superset --> ML (subset of AI) --> ANN/DL (subset of ML)\n",
    "* DL is different from ANN because \n",
    "* AI Winter --> cut down funding\n",
    "* in the past, neural networks were rejected\n",
    "* ANN (1943) --> DL (2007-2010) the name was changed to improve its stigma\n",
    "* GPU ( a specialized derivation of CPU for graphics) --> lots of matrix computations, they perform the matrix computations in parallel\n",
    "* 2010, time it was proved that GPU's were great for neural networks\n",
    "* after this, there was a ML competition --> imagenet was created \n",
    "* convolutional neural networks --> special kind of layers and believed that would work really well with images--> scientist used it --> 83% accuracy, as opposed to traditional ML techniques (73% accuracy)\n",
    "* ML =some programming (feature engineering) + brain (function that maps the relevant features)\n",
    "* DL = just brain (data structure + function that maps the data)\n",
    "* data science is used as a tool to apply DL\n",
    "* Keras is built on top of Tensorflow\n",
    "* tensorflow is a data flow library provided \n",
    "* the repeated data flow process is what a neural network is\n",
    "* data flow:  Input1 |   input 2   --> operation (+) --> 1 output\n"
   ]
  },
  {
   "cell_type": "code",
   "execution_count": null,
   "metadata": {},
   "outputs": [],
   "source": []
  }
 ],
 "metadata": {
  "kernelspec": {
   "display_name": "Python 3",
   "language": "python",
   "name": "python3"
  },
  "language_info": {
   "codemirror_mode": {
    "name": "ipython",
    "version": 3
   },
   "file_extension": ".py",
   "mimetype": "text/x-python",
   "name": "python",
   "nbconvert_exporter": "python",
   "pygments_lexer": "ipython3",
   "version": "3.6.5"
  }
 },
 "nbformat": 4,
 "nbformat_minor": 2
}
