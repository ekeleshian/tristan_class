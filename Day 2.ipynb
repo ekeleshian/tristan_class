{
 "cells": [
  {
   "cell_type": "code",
   "execution_count": 1,
   "metadata": {},
   "outputs": [],
   "source": [
    "import numpy as np"
   ]
  },
  {
   "cell_type": "code",
   "execution_count": 2,
   "metadata": {},
   "outputs": [],
   "source": [
    "x = np.array([[1,2],[3,4],[5,6]])"
   ]
  },
  {
   "cell_type": "code",
   "execution_count": 3,
   "metadata": {},
   "outputs": [
    {
     "data": {
      "text/plain": [
       "array([[1, 2],\n",
       "       [3, 4],\n",
       "       [5, 6]])"
      ]
     },
     "execution_count": 3,
     "metadata": {},
     "output_type": "execute_result"
    }
   ],
   "source": [
    "x"
   ]
  },
  {
   "cell_type": "code",
   "execution_count": 4,
   "metadata": {},
   "outputs": [],
   "source": [
    "y = x[[0,1,2],[0,1,0]]"
   ]
  },
  {
   "cell_type": "code",
   "execution_count": 5,
   "metadata": {},
   "outputs": [
    {
     "data": {
      "text/plain": [
       "array([1, 4, 5])"
      ]
     },
     "execution_count": 5,
     "metadata": {},
     "output_type": "execute_result"
    }
   ],
   "source": [
    "y"
   ]
  },
  {
   "cell_type": "markdown",
   "metadata": {},
   "source": [
    "^ I don't understand this"
   ]
  },
  {
   "cell_type": "code",
   "execution_count": 1,
   "metadata": {},
   "outputs": [
    {
     "name": "stderr",
     "output_type": "stream",
     "text": [
      "/home/mathlizard/anaconda3/lib/python3.6/site-packages/h5py/__init__.py:36: FutureWarning: Conversion of the second argument of issubdtype from `float` to `np.floating` is deprecated. In future, it will be treated as `np.float64 == np.dtype(float).type`.\n",
      "  from ._conv import register_converters as _register_converters\n",
      "Using TensorFlow backend.\n"
     ]
    }
   ],
   "source": [
    "import keras"
   ]
  },
  {
   "cell_type": "code",
   "execution_count": 2,
   "metadata": {},
   "outputs": [
    {
     "data": {
      "text/plain": [
       "'2.2.2'"
      ]
     },
     "execution_count": 2,
     "metadata": {},
     "output_type": "execute_result"
    }
   ],
   "source": [
    "keras.__version__"
   ]
  },
  {
   "cell_type": "code",
   "execution_count": 3,
   "metadata": {},
   "outputs": [],
   "source": [
    "from keras.datasets import mnist"
   ]
  },
  {
   "cell_type": "code",
   "execution_count": 11,
   "metadata": {},
   "outputs": [
    {
     "data": {
      "text/plain": [
       "468.75"
      ]
     },
     "execution_count": 11,
     "metadata": {},
     "output_type": "execute_result"
    }
   ],
   "source": [
    "from keras import models, layers\n"
   ]
  },
  {
   "cell_type": "code",
   "execution_count": 10,
   "metadata": {},
   "outputs": [
    {
     "name": "stdout",
     "output_type": "stream",
     "text": [
      "_________________________________________________________________\n",
      "Layer (type)                 Output Shape              Param #   \n",
      "=================================================================\n",
      "dense_5 (Dense)              (None, 512)               401920    \n",
      "_________________________________________________________________\n",
      "dense_6 (Dense)              (None, 10)                5130      \n",
      "=================================================================\n",
      "Total params: 407,050\n",
      "Trainable params: 407,050\n",
      "Non-trainable params: 0\n",
      "_________________________________________________________________\n"
     ]
    }
   ],
   "source": [
    "model = models.Sequential()  # take a couple of layers and stack them\n",
    "model.add(layers.Dense(   #the 784 inputs then simplify to 512 outputs\n",
    "512,\n",
    "activation=\"relu\",   #ensures proper nodes are activated\n",
    "input_shape=(28*28,)))  #defining the input shape, ONLY THE FIRST LAYER HAS A DETERMINED INPUT SHAPE\n",
    "model.add(layers.Dense(\n",
    "    10,\n",
    "    activation=\"softmax\")) #it has 10 outputs, and its input is from the last layer\n",
    "#softmax is a threshold function, activation threhold, makes sure some outputs propogate and others don't propogate\n",
    "#makes sure the sum of all outputs is 1, and each output is in between 0 and 1 --> becomes a probability distribution\n",
    "model.summary() \n",
    "\n",
    "model.compile(           #you can't train a neural network until it's been compiled, \n",
    "optimizer=\"rmsprop\",     #rmsprop is an algorithm changes the learning rate over time, always a good start\n",
    "loss=\"categorical_crossentropy\",   #tells you how big your error is, how far away from the predicted result from expected\n",
    "metrics=[\"accuracy\"])#cross entropy == distances between probability distributions, categorical means more than two classes \n",
    "# accuracy tells how many predictions are right and wrong,\n",
    "# we use accuracy because it's a classifation problem\n",
    "# accuracy metric is easily to interpret"
   ]
  },
  {
   "cell_type": "markdown",
   "metadata": {},
   "source": [
    "401920 = (28 \\* 28) * (512+1)"
   ]
  },
  {
   "cell_type": "markdown",
   "metadata": {},
   "source": [
    "* this is a dense model, i.e. fully connected, which  means fixed input and output size\n",
    "* the dense layers are directed and WEIGHTED\n",
    "* neural networks are a directed graph\n",
    "* the hidden layer, which has 512 inputs, are hyperparameters\n",
    "* why relu? relu is fast, always good start\n",
    "* why softmax? because it's a classification problem\n",
    "* loss (in this case categorical_crossentropy) can be hard to intrepet\n",
    "* in classification, with more htan 2 classes, you are obliged to use last layer as softmax, and the category crossentropy as loss function. \n",
    "\n"
   ]
  },
  {
   "cell_type": "code",
   "execution_count": 26,
   "metadata": {},
   "outputs": [
    {
     "name": "stdout",
     "output_type": "stream",
     "text": [
      "Train: (60000, 28, 28)\n",
      "Test: (10000, 28, 28)\n",
      "before: 5\n",
      "after: [0. 0. 0. 0. 0. 1. 0. 0. 0. 0.]\n"
     ]
    }
   ],
   "source": [
    "%matplotlib inline\n",
    "import matplotlib.pyplot as plt \n",
    "\n",
    "(train_images, train_labels), (test_images, test_labels) = mnist.load_data()\n",
    "print(\"Train:\", train_images.shape)\n",
    "print(\"Test:\", test_images.shape)\n",
    "\n",
    "# plt.imshow(train_images[0],cmap=\"gray\")\n",
    "# plt.title(str(train_labels[0]))\n",
    "# plt.show()\n",
    "#the original input has numbers that are between 0 and 255\n",
    "#feed neural networks with numbers that range between 0 and 1, or -1 and 1\n",
    "# big numbers mean the gradient might explode\n",
    "\n",
    "train_images = train_images.reshape((60000, 28*28))\n",
    "train_images = train_images.astype(\"float32\") / 255.0   #normalizing the data\n",
    "\n",
    "test_images = test_images.reshape((10000, 28*28))\n",
    "test_images = test_images.astype(\"float32\") / 255.0\n",
    "\n",
    "from keras.utils import to_categorical\n",
    "\n",
    "print(\"before:\", train_labels[0])\n",
    "\n",
    "train_labels = to_categorical(train_labels)   #one-hot encoding\n",
    "test_labels = to_categorical(test_labels)\n",
    "print('after:', train_labels[0])\n",
    "\n",
    "#60,000 = number of samples\n",
    "#28 by 28 gives you the dimensionality"
   ]
  },
  {
   "cell_type": "code",
   "execution_count": 27,
   "metadata": {},
   "outputs": [
    {
     "name": "stdout",
     "output_type": "stream",
     "text": [
      "60000/60000 [==============================] - 2s 40us/step\n"
     ]
    },
    {
     "data": {
      "text/plain": [
       "[2.42385237197876, 0.06398333333333334]"
      ]
     },
     "execution_count": 27,
     "metadata": {},
     "output_type": "execute_result"
    }
   ],
   "source": [
    "model.evaluate(train_images, train_labels)  #the young neural network without training\n",
    "#model.evaluate: do this once, after the training"
   ]
  },
  {
   "cell_type": "code",
   "execution_count": 32,
   "metadata": {},
   "outputs": [
    {
     "name": "stdout",
     "output_type": "stream",
     "text": [
      "0.18376057\n",
      "2\n",
      "[0. 0. 0. 0. 0. 1. 0. 0. 0. 0.]\n"
     ]
    }
   ],
   "source": [
    "#model.predict(train_images[0])  #assumes an array of images, this doesn't work. \n",
    "import numpy as np\n",
    "model.predict(train_images[0:1])#hence it has to be two dimensional\n",
    "print(np.max(model.predict(train_images[0:1])))\n",
    "print(np.argmax(model.predict(train_images[0:1])))\n",
    "print(train_labels[0])\n",
    "#this is an untrained neural network, this is bad"
   ]
  },
  {
   "cell_type": "code",
   "execution_count": 35,
   "metadata": {},
   "outputs": [
    {
     "name": "stdout",
     "output_type": "stream",
     "text": [
      "Epoch 1/5\n",
      "60000/60000 [==============================] - 3s 58us/step - loss: 0.0087 - acc: 0.9977\n",
      "Epoch 2/5\n",
      "60000/60000 [==============================] - 3s 58us/step - loss: 0.0066 - acc: 0.9983\n",
      "Epoch 3/5\n",
      "60000/60000 [==============================] - 3s 57us/step - loss: 0.0054 - acc: 0.9984\n",
      "Epoch 4/5\n",
      "60000/60000 [==============================] - 3s 57us/step - loss: 0.0044 - acc: 0.9989\n",
      "Epoch 5/5\n",
      "60000/60000 [==============================] - 4s 61us/step - loss: 0.0035 - acc: 0.9992\n"
     ]
    }
   ],
   "source": [
    "history = model.fit(  #it contains a history dictionry, history.history\n",
    "train_images, train_labels, \n",
    "epochs=5,     \n",
    "batch_size=128)  #BATCH SIZE MUST BE power of 2\n",
    "#number of epochs is determined how big your training data is\n",
    "#re-running these lines of code does not reset the weights, it will use the previous weights of the 5th epoch"
   ]
  },
  {
   "cell_type": "code",
   "execution_count": 39,
   "metadata": {},
   "outputs": [
    {
     "name": "stdout",
     "output_type": "stream",
     "text": [
      "{'loss': [0.008718088429669538, 0.0066080134426864485, 0.005429069279848288, 0.004357031332996363, 0.0035246181110463416], 'acc': [0.9977166666666667, 0.9982833333333333, 0.99845, 0.9988833333333333, 0.9991833333015442]}\n"
     ]
    },
    {
     "data": {
      "image/png": "[encoded data removed]",
      "text/plain": [
       "<Figure size 432x288 with 1 Axes>"
      ]
     },
     "metadata": {},
     "output_type": "display_data"
    },
    {
     "data": {
      "image/png": "[encoded data removed]",
      "text/plain": [
       "<Figure size 432x288 with 1 Axes>"
      ]
     },
     "metadata": {},
     "output_type": "display_data"
    }
   ],
   "source": [
    "print(history.history)\n",
    "\n",
    "plt.plot(history.history['loss'])\n",
    "plt.show()\n",
    "plt.close()\n",
    "\n",
    "plt.plot(history.history['acc'], label='acc')\n",
    "plt.legend()\n",
    "plt.show()\n",
    "plt.close()"
   ]
  },
  {
   "cell_type": "code",
   "execution_count": 8,
   "metadata": {},
   "outputs": [
    {
     "name": "stdout",
     "output_type": "stream",
     "text": [
      "60000/60000 [==============================] - 3s 42us/step\n",
      "0.023233640158587757 0.9936833333333334\n"
     ]
    }
   ],
   "source": [
    "test_loss, test_acc = model.evaluate(train_images, train_labels)  #why do we have test data?  to avoid overfitting\n",
    "print(test_loss, test_acc)"
   ]
  },
  {
   "cell_type": "markdown",
   "metadata": {},
   "source": [
    "* optimizing vs generalizing \n",
    "* we optimize on the training data, and we generalize on the testing data (something it hasn't seen yet)\n",
    "* we need to apply the testing data to avoid overfitting"
   ]
  },
  {
   "cell_type": "markdown",
   "metadata": {},
   "source": [
    "*  big words: AI, ML, DL\n",
    "*  there's a big difference between AI and ML --> not true!  \n",
    "*  Agent-based AI \n",
    "*  DL was used to win the game of GO\n",
    "* given the input and output, find the rules (the function that fits)\n",
    "* Artificial Neural Networks (ANN)/ DL \n",
    "*  AI is the superset --> ML (subset of AI) --> ANN/DL (subset of ML)\n",
    "* DL is different from ANN because \n",
    "* AI Winter --> cut down funding\n",
    "* in the past, neural networks were rejected\n",
    "* ANN (1943) --> DL (2007-2010) the name was changed to improve its stigma\n",
    "* GPU ( a specialized derivation of CPU for graphics) --> lots of matrix computations, they perform the matrix computations in parallel\n",
    "* 2010, time it was proved that GPU's were great for neural networks\n",
    "* after this, there was a ML competition --> imagenet was created \n",
    "* convolutional neural networks --> special kind of layers and believed that would work really well with images--> scientist used it --> 83% accuracy, as opposed to traditional ML techniques (73% accuracy)\n",
    "* ML =some programming (feature engineering) + brain (function that maps the relevant features)\n",
    "* DL = just brain (data structure + function that maps the data)\n",
    "* data science is used as a tool to apply DL\n",
    "* Keras is built on top of Tensorflow\n",
    "* tensorflow is a data flow library provided \n",
    "* the repeated data flow process is what a neural network is\n",
    "* data flow:  Input1 |   input 2   --> operation (+) --> 1 output\n"
   ]
  },
  {
   "cell_type": "code",
   "execution_count": null,
   "metadata": {},
   "outputs": [],
   "source": []
  }
 ],
 "metadata": {
  "kernelspec": {
   "display_name": "Python 3",
   "language": "python",
   "name": "python3"
  },
  "language_info": {
   "codemirror_mode": {
    "name": "ipython",
    "version": 3
   },
   "file_extension": ".py",
   "mimetype": "text/x-python",
   "name": "python",
   "nbconvert_exporter": "python",
   "pygments_lexer": "ipython3",
   "version": "3.6.5"
  }
 },
 "nbformat": 4,
 "nbformat_minor": 2
}
